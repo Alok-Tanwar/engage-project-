{
 "cells": [
  {
   "cell_type": "code",
   "execution_count": 1,
   "id": "5059d959",
   "metadata": {},
   "outputs": [],
   "source": [
    "import numpy as np\n",
    "import cv2\n",
    "import sklearn\n",
    "import pickle"
   ]
  },
  {
   "cell_type": "code",
   "execution_count": 2,
   "id": "d90c184d",
   "metadata": {},
   "outputs": [
    {
     "name": "stderr",
     "output_type": "stream",
     "text": [
      "C:\\Users\\ALOK\\anaconda3\\lib\\site-packages\\sklearn\\base.py:329: UserWarning: Trying to unpickle estimator LogisticRegression from version 0.24.1 when using version 1.0.2. This might lead to breaking code or invalid results. Use at your own risk. For more info please refer to:\n",
      "https://scikit-learn.org/stable/modules/model_persistence.html#security-maintainability-limitations\n",
      "  warnings.warn(\n",
      "C:\\Users\\ALOK\\anaconda3\\lib\\site-packages\\sklearn\\base.py:329: UserWarning: Trying to unpickle estimator SVC from version 0.24.1 when using version 1.0.2. This might lead to breaking code or invalid results. Use at your own risk. For more info please refer to:\n",
      "https://scikit-learn.org/stable/modules/model_persistence.html#security-maintainability-limitations\n",
      "  warnings.warn(\n",
      "C:\\Users\\ALOK\\anaconda3\\lib\\site-packages\\sklearn\\base.py:329: UserWarning: Trying to unpickle estimator DecisionTreeClassifier from version 0.24.1 when using version 1.0.2. This might lead to breaking code or invalid results. Use at your own risk. For more info please refer to:\n",
      "https://scikit-learn.org/stable/modules/model_persistence.html#security-maintainability-limitations\n",
      "  warnings.warn(\n",
      "C:\\Users\\ALOK\\anaconda3\\lib\\site-packages\\sklearn\\base.py:329: UserWarning: Trying to unpickle estimator RandomForestClassifier from version 0.24.1 when using version 1.0.2. This might lead to breaking code or invalid results. Use at your own risk. For more info please refer to:\n",
      "https://scikit-learn.org/stable/modules/model_persistence.html#security-maintainability-limitations\n",
      "  warnings.warn(\n",
      "C:\\Users\\ALOK\\anaconda3\\lib\\site-packages\\sklearn\\base.py:329: UserWarning: Trying to unpickle estimator LabelEncoder from version 0.24.1 when using version 1.0.2. This might lead to breaking code or invalid results. Use at your own risk. For more info please refer to:\n",
      "https://scikit-learn.org/stable/modules/model_persistence.html#security-maintainability-limitations\n",
      "  warnings.warn(\n",
      "C:\\Users\\ALOK\\anaconda3\\lib\\site-packages\\sklearn\\base.py:329: UserWarning: Trying to unpickle estimator VotingClassifier from version 0.24.1 when using version 1.0.2. This might lead to breaking code or invalid results. Use at your own risk. For more info please refer to:\n",
      "https://scikit-learn.org/stable/modules/model_persistence.html#security-maintainability-limitations\n",
      "  warnings.warn(\n"
     ]
    }
   ],
   "source": [
    "# face detection\n",
    "face_detector_model = cv2.dnn.readNetFromCaffe('./models/deploy.prototxt.txt',\n",
    "                                               './models/res10_300x300_ssd_iter_140000.caffemodel')\n",
    "# feature extraction\n",
    "face_feature_model = cv2.dnn.readNetFromTorch('./models/openface.nn4.small2.v1.t7')\n",
    "# face recognition\n",
    "face_recognition_model = pickle.load(open('./models/machinelearning_face_person_identity.pkl',\n",
    "                                          mode='rb'))\n",
    "# emotion recognition model\n",
    "emotion_recognition_model = pickle.load(open('./models/machinelearning_face_emotion.pkl',mode='rb'))"
   ]
  },
  {
   "cell_type": "code",
   "execution_count": 3,
   "id": "4d55b7c0",
   "metadata": {},
   "outputs": [
    {
     "ename": "IndentationError",
     "evalue": "unexpected indent (229409958.py, line 2)",
     "output_type": "error",
     "traceback": [
      "\u001b[1;36m  Input \u001b[1;32mIn [3]\u001b[1;36m\u001b[0m\n\u001b[1;33m    img = cv2.imread(path)\u001b[0m\n\u001b[1;37m    ^\u001b[0m\n\u001b[1;31mIndentationError\u001b[0m\u001b[1;31m:\u001b[0m unexpected indent\n"
     ]
    }
   ],
   "source": [
    "# pipeline model\n",
    "    img = cv2.imread(path)\n",
    "    image = img.copy()\n",
    "    h,w = img.shape[:2]\n",
    "    # face detection\n",
    "    img_blob = cv2.dnn.blobFromImage(img,1,(300,300),(104,177,123),swapRB=False,crop=False)\n",
    "    face_detector_model.setInput(img_blob)\n",
    "    detections = face_detector_model.forward()"
   ]
  },
  {
   "cell_type": "code",
   "execution_count": 4,
   "id": "c88bbca5",
   "metadata": {},
   "outputs": [],
   "source": [
    "def pipeline_model(path):\n",
    "    # pipeline model\n",
    "    img = cv2.imread(path)\n",
    "    image = img.copy()\n",
    "    h,w = img.shape[:2]\n",
    "    # face detection\n",
    "    img_blob = cv2.dnn.blobFromImage(img,1,(300,300),(104,177,123),swapRB=False,crop=False)\n",
    "    face_detector_model.setInput(img_blob)\n",
    "    detections = face_detector_model.forward()\n",
    "    \n",
    "    # machcine results\n",
    "    machinlearning_results = dict(face_detect_score = [], \n",
    "                                 face_name = [],\n",
    "                                 face_name_score = [],\n",
    "                                 emotion_name = [],\n",
    "                                 emotion_name_score = [],\n",
    "                                 count = [])\n",
    "    count = 1\n",
    "    if len(detections) > 0:\n",
    "        for i , confidence in enumerate(detections[0,0,:,2]):\n",
    "            if confidence > 0.5:\n",
    "                box = detections[0,0,i,3:7]*np.array([w,h,w,h])\n",
    "                startx,starty,endx,endy = box.astype(int)\n",
    "\n",
    "                cv2.rectangle(image,(startx,starty),(endx,endy),(0,255,0))\n",
    "\n",
    "                # feature extraction\n",
    "                face_roi = img[starty:endy,startx:endx]\n",
    "                face_blob = cv2.dnn.blobFromImage(face_roi,1/255,(96,96),(0,0,0),swapRB=True,crop=True)\n",
    "                face_feature_model.setInput(face_blob)\n",
    "                vectors = face_feature_model.forward()\n",
    "\n",
    "                # predict with machine learning\n",
    "                face_name = face_recognition_model.predict(vectors)[0]\n",
    "                face_score = face_recognition_model.predict_proba(vectors).max()\n",
    "                # EMOTION \n",
    "                emotion_name = emotion_recognition_model.predict(vectors)[0]\n",
    "                emotion_score = emotion_recognition_model.predict_proba(vectors).max()\n",
    "                if face_score > 0.5:\n",
    "                    text_face = '{} : {:.0f} %'.format(face_name,100*face_score)\n",
    "                    text_emotion = '{} : {:.0f} %'.format(emotion_name,100*emotion_score)       \n",
    "                else :\n",
    "                    text_face = '{} : {:.0f} %'.format('unknown',0)\n",
    "                    text_emotion = '{} : {:.0f} %'.format(emotion_name,100*emotion_score)\n",
    "                   \n",
    "               \n",
    "                cv2.putText(image,text_face,(startx,starty),cv2.FONT_HERSHEY_PLAIN,2,(255,255,255),2)\n",
    "                cv2.putText(image,text_emotion,(startx,endy),cv2.FONT_HERSHEY_PLAIN,2,(255,255,255),2)\n",
    "                \n",
    "                machinlearning_results['count'].append(count)\n",
    "                if 100*face_score > 0.5 :\n",
    "                    machinlearning_results['face_detect_score'].append(confidence)\n",
    "                    machinlearning_results['face_name'].append(face_name)\n",
    "                else :\n",
    "                    machinlearning_results['face_detect_score'].append(0)\n",
    "                    machinlearning_results['face_name'].append('unknown')\n",
    "                machinlearning_results['face_name_score'].append(face_score)\n",
    "                machinlearning_results['emotion_name'].append(emotion_name)\n",
    "                machinlearning_results['emotion_name_score'].append(emotion_score)\n",
    "                \n",
    "                count += 1\n",
    "                \n",
    "            \n",
    "    return image, machinlearning_results"
   ]
  },
  {
   "cell_type": "code",
   "execution_count": 5,
   "id": "8c042418",
   "metadata": {},
   "outputs": [],
   "source": [
    "img, results = pipeline_model('./images/friends.jpg')\n",
    "cv2.imshow('detection',img)\n",
    "cv2.waitKey(0)\n",
    "cv2.destroyAllWindows()\n"
   ]
  },
  {
   "cell_type": "code",
   "execution_count": null,
   "id": "0dba455b",
   "metadata": {},
   "outputs": [],
   "source": []
  }
 ],
 "metadata": {
  "kernelspec": {
   "display_name": "Python 3 (ipykernel)",
   "language": "python",
   "name": "python3"
  },
  "language_info": {
   "codemirror_mode": {
    "name": "ipython",
    "version": 3
   },
   "file_extension": ".py",
   "mimetype": "text/x-python",
   "name": "python",
   "nbconvert_exporter": "python",
   "pygments_lexer": "ipython3",
   "version": "3.9.12"
  }
 },
 "nbformat": 4,
 "nbformat_minor": 5
}
